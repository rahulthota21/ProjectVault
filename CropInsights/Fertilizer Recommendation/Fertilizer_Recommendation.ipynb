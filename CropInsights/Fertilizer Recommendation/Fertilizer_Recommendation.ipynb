{
 "cells": [
  {
   "cell_type": "markdown",
   "metadata": {},
   "source": [
    "# **Fertilizer Recommendation**"
   ]
  },
  {
   "cell_type": "markdown",
   "metadata": {},
   "source": [
    "## **1. Problem Understanding**"
   ]
  },
  {
   "cell_type": "markdown",
   "metadata": {},
   "source": [
    "### Project Overview\n",
    "Agriculture is the backbone of human civilization, and modern technology can empower farmers to maximize crop yields while conserving resources. This project focuses on building a Fertilizer Prediction System that helps farmers identify the most suitable fertilizer for their crops based on environmental and soil conditions.\n",
    "\n",
    "### Why Fertilizer Recommendation Matters?\n",
    "\n",
    "**Efficient fertilizer usage is essential for:**\n",
    "- Boosting crop productivity.\n",
    "- Ensuring sustainable farming practices.\n",
    "- Minimizing waste and reducing costs.\n",
    "- Maintaining soil health over time.\n",
    "- By leveraging data-driven insights, this system enables informed decision-making to optimize agricultural outcomes."
   ]
  },
  {
   "cell_type": "markdown",
   "metadata": {},
   "source": [
    "### Features in the Dataset:\n",
    "Our dataset includes a rich variety of features representing key agricultural factors:\n",
    "\n",
    "- 🌡️ Temperature: Current environmental temperature in the region.\n",
    "- 💧 Humidity: The moisture content in the air, essential for plant growth.\n",
    "- 🌱 Soil Moisture: Indicates the water level present in the soil.\n",
    "- 🌾 Nitrogen (N): A crucial nutrient that supports leaf and plant growth.\n",
    "- 🥔 Potassium (K): Promotes plant health and disease resistance.\n",
    "- 🌻 Phosphorous (P): Key for root development and energy transfer in plants.\n",
    "- 🌍 Soil Type: The classification of soil, such as clay, sandy, or loamy.\n",
    "- 🌽 Crop Type: The type of crop being cultivated (e.g., wheat, rice, maize).\n",
    "- 🧪 Fertilizer Name: The recommended fertilizer, which we aim to predict."
   ]
  },
  {
   "cell_type": "markdown",
   "metadata": {},
   "source": [
    "### Objective\n",
    "The primary goal of this project is to predict the ideal fertilizer for a given combination of environmental conditions, soil properties, and crop types. This will:\n",
    "\n",
    "- Enhance precision farming techniques.\n",
    "- Ensure crops receive the right nutrients at the right time.\n",
    "- Contribute to sustainable agriculture."
   ]
  },
  {
   "cell_type": "code",
   "execution_count": 1,
   "metadata": {},
   "outputs": [],
   "source": [
    "import warnings\n",
    "\n",
    "# Suppress all warnings\n",
    "warnings.filterwarnings(\"ignore\")"
   ]
  },
  {
   "cell_type": "markdown",
   "metadata": {},
   "source": [
    "## **2. Importing**"
   ]
  },
  {
   "cell_type": "markdown",
   "metadata": {},
   "source": [
    "### *Importing Libraries*"
   ]
  },
  {
   "cell_type": "code",
   "execution_count": 2,
   "metadata": {},
   "outputs": [],
   "source": [
    "import math\n",
    "import numpy as np\n",
    "import pandas as pd\n",
    "import matplotlib.pylab as plt\n",
    "import seaborn as sns\n",
    "from sklearn.neighbors import LocalOutlierFactor\n",
    "from sklearn.preprocessing import MinMaxScaler\n",
    "from sklearn.preprocessing import LabelEncoder\n",
    "from sklearn.model_selection import train_test_split\n",
    "from sklearn.decomposition import PCA\n",
    "from sklearn.metrics import accuracy_score, precision_score, recall_score, f1_score, roc_auc_score, classification_report\n",
    "from sklearn.tree import DecisionTreeClassifier\n",
    "from sklearn.ensemble import RandomForestClassifier\n",
    "from sklearn.linear_model import LogisticRegression\n",
    "from sklearn.svm import SVC\n",
    "from xgboost import XGBClassifier\n",
    "from sklearn.model_selection import GridSearchCV"
   ]
  },
  {
   "cell_type": "markdown",
   "metadata": {},
   "source": [
    "### *Importing Dataset*"
   ]
  },
  {
   "cell_type": "code",
   "execution_count": 3,
   "metadata": {
    "id": "kl8aKcRXu3HE"
   },
   "outputs": [],
   "source": [
    "df = pd.read_csv('Fertilizer Prediction.csv')"
   ]
  },
  {
   "cell_type": "code",
   "execution_count": 4,
   "metadata": {},
   "outputs": [
    {
     "name": "stdout",
     "output_type": "stream",
     "text": [
      "Index(['Temparature', 'Humidity', 'Moisture', 'Nitrogen', 'Potassium',\n",
      "       'Phosphorous', 'Soil Type', 'Crop Type', 'Fertilizer Name'],\n",
      "      dtype='object')\n"
     ]
    }
   ],
   "source": [
    "columns = df.columns\n",
    "print(columns)"
   ]
  },
  {
   "cell_type": "code",
   "execution_count": 5,
   "metadata": {
    "colab": {
     "base_uri": "https://localhost:8080/",
     "height": 206
    },
    "id": "q_mQM2HHvVSx",
    "outputId": "51e99cd7-1cbb-4eec-8c5f-9551bb53a542"
   },
   "outputs": [
    {
     "data": {
      "text/html": [
       "<div>\n",
       "<style scoped>\n",
       "    .dataframe tbody tr th:only-of-type {\n",
       "        vertical-align: middle;\n",
       "    }\n",
       "\n",
       "    .dataframe tbody tr th {\n",
       "        vertical-align: top;\n",
       "    }\n",
       "\n",
       "    .dataframe thead th {\n",
       "        text-align: right;\n",
       "    }\n",
       "</style>\n",
       "<table border=\"1\" class=\"dataframe\">\n",
       "  <thead>\n",
       "    <tr style=\"text-align: right;\">\n",
       "      <th></th>\n",
       "      <th>Temparature</th>\n",
       "      <th>Humidity</th>\n",
       "      <th>Moisture</th>\n",
       "      <th>Nitrogen</th>\n",
       "      <th>Potassium</th>\n",
       "      <th>Phosphorous</th>\n",
       "      <th>Soil Type</th>\n",
       "      <th>Crop Type</th>\n",
       "      <th>Fertilizer Name</th>\n",
       "    </tr>\n",
       "  </thead>\n",
       "  <tbody>\n",
       "    <tr>\n",
       "      <th>0</th>\n",
       "      <td>28.638556</td>\n",
       "      <td>57.802320</td>\n",
       "      <td>27.318120</td>\n",
       "      <td>27.103563</td>\n",
       "      <td>8.057391</td>\n",
       "      <td>0.000000</td>\n",
       "      <td>Sandy</td>\n",
       "      <td>Cotton</td>\n",
       "      <td>28-28</td>\n",
       "    </tr>\n",
       "    <tr>\n",
       "      <th>1</th>\n",
       "      <td>32.677254</td>\n",
       "      <td>61.838722</td>\n",
       "      <td>48.305496</td>\n",
       "      <td>23.728414</td>\n",
       "      <td>8.565797</td>\n",
       "      <td>6.124962</td>\n",
       "      <td>Clayey</td>\n",
       "      <td>Wheat</td>\n",
       "      <td>28-28</td>\n",
       "    </tr>\n",
       "    <tr>\n",
       "      <th>2</th>\n",
       "      <td>29.517047</td>\n",
       "      <td>57.453726</td>\n",
       "      <td>44.630373</td>\n",
       "      <td>4.000000</td>\n",
       "      <td>3.957860</td>\n",
       "      <td>34.317533</td>\n",
       "      <td>Red</td>\n",
       "      <td>Tobacco</td>\n",
       "      <td>Urea</td>\n",
       "    </tr>\n",
       "    <tr>\n",
       "      <th>3</th>\n",
       "      <td>32.530094</td>\n",
       "      <td>62.716442</td>\n",
       "      <td>46.442380</td>\n",
       "      <td>29.280017</td>\n",
       "      <td>0.000000</td>\n",
       "      <td>31.379831</td>\n",
       "      <td>Black</td>\n",
       "      <td>Wheat</td>\n",
       "      <td>20-20</td>\n",
       "    </tr>\n",
       "    <tr>\n",
       "      <th>4</th>\n",
       "      <td>30.926704</td>\n",
       "      <td>60.487777</td>\n",
       "      <td>45.762867</td>\n",
       "      <td>26.925033</td>\n",
       "      <td>0.000000</td>\n",
       "      <td>17.130972</td>\n",
       "      <td>Loamy</td>\n",
       "      <td>Barley</td>\n",
       "      <td>Urea</td>\n",
       "    </tr>\n",
       "  </tbody>\n",
       "</table>\n",
       "</div>"
      ],
      "text/plain": [
       "   Temparature   Humidity   Moisture   Nitrogen  Potassium  Phosphorous  \\\n",
       "0    28.638556  57.802320  27.318120  27.103563   8.057391     0.000000   \n",
       "1    32.677254  61.838722  48.305496  23.728414   8.565797     6.124962   \n",
       "2    29.517047  57.453726  44.630373   4.000000   3.957860    34.317533   \n",
       "3    32.530094  62.716442  46.442380  29.280017   0.000000    31.379831   \n",
       "4    30.926704  60.487777  45.762867  26.925033   0.000000    17.130972   \n",
       "\n",
       "  Soil Type Crop Type Fertilizer Name  \n",
       "0     Sandy    Cotton           28-28  \n",
       "1    Clayey     Wheat           28-28  \n",
       "2       Red   Tobacco            Urea  \n",
       "3     Black     Wheat           20-20  \n",
       "4     Loamy    Barley            Urea  "
      ]
     },
     "execution_count": 5,
     "metadata": {},
     "output_type": "execute_result"
    }
   ],
   "source": [
    "df.head()"
   ]
  },
  {
   "cell_type": "code",
   "execution_count": 6,
   "metadata": {},
   "outputs": [
    {
     "data": {
      "text/html": [
       "<div>\n",
       "<style scoped>\n",
       "    .dataframe tbody tr th:only-of-type {\n",
       "        vertical-align: middle;\n",
       "    }\n",
       "\n",
       "    .dataframe tbody tr th {\n",
       "        vertical-align: top;\n",
       "    }\n",
       "\n",
       "    .dataframe thead th {\n",
       "        text-align: right;\n",
       "    }\n",
       "</style>\n",
       "<table border=\"1\" class=\"dataframe\">\n",
       "  <thead>\n",
       "    <tr style=\"text-align: right;\">\n",
       "      <th></th>\n",
       "      <th>Temparature</th>\n",
       "      <th>Humidity</th>\n",
       "      <th>Moisture</th>\n",
       "      <th>Nitrogen</th>\n",
       "      <th>Potassium</th>\n",
       "      <th>Phosphorous</th>\n",
       "    </tr>\n",
       "  </thead>\n",
       "  <tbody>\n",
       "    <tr>\n",
       "      <th>count</th>\n",
       "      <td>15000.000000</td>\n",
       "      <td>15000.000000</td>\n",
       "      <td>15000.000000</td>\n",
       "      <td>15000.000000</td>\n",
       "      <td>15000.000000</td>\n",
       "      <td>15000.000000</td>\n",
       "    </tr>\n",
       "    <tr>\n",
       "      <th>mean</th>\n",
       "      <td>30.340114</td>\n",
       "      <td>59.188194</td>\n",
       "      <td>43.852507</td>\n",
       "      <td>19.156966</td>\n",
       "      <td>4.201368</td>\n",
       "      <td>19.016804</td>\n",
       "    </tr>\n",
       "    <tr>\n",
       "      <th>std</th>\n",
       "      <td>3.304169</td>\n",
       "      <td>5.526760</td>\n",
       "      <td>10.468917</td>\n",
       "      <td>10.137319</td>\n",
       "      <td>4.289340</td>\n",
       "      <td>12.023812</td>\n",
       "    </tr>\n",
       "    <tr>\n",
       "      <th>min</th>\n",
       "      <td>25.000000</td>\n",
       "      <td>50.000000</td>\n",
       "      <td>25.000000</td>\n",
       "      <td>4.000000</td>\n",
       "      <td>0.000000</td>\n",
       "      <td>0.000000</td>\n",
       "    </tr>\n",
       "    <tr>\n",
       "      <th>25%</th>\n",
       "      <td>27.813303</td>\n",
       "      <td>54.990011</td>\n",
       "      <td>36.122527</td>\n",
       "      <td>11.094373</td>\n",
       "      <td>0.000000</td>\n",
       "      <td>9.530442</td>\n",
       "    </tr>\n",
       "    <tr>\n",
       "      <th>50%</th>\n",
       "      <td>30.220540</td>\n",
       "      <td>59.019246</td>\n",
       "      <td>43.725939</td>\n",
       "      <td>18.845369</td>\n",
       "      <td>3.203152</td>\n",
       "      <td>18.835699</td>\n",
       "    </tr>\n",
       "    <tr>\n",
       "      <th>75%</th>\n",
       "      <td>32.693885</td>\n",
       "      <td>63.089060</td>\n",
       "      <td>51.416972</td>\n",
       "      <td>26.250446</td>\n",
       "      <td>6.991703</td>\n",
       "      <td>27.759631</td>\n",
       "    </tr>\n",
       "    <tr>\n",
       "      <th>max</th>\n",
       "      <td>38.000000</td>\n",
       "      <td>72.000000</td>\n",
       "      <td>65.000000</td>\n",
       "      <td>42.000000</td>\n",
       "      <td>19.000000</td>\n",
       "      <td>42.000000</td>\n",
       "    </tr>\n",
       "  </tbody>\n",
       "</table>\n",
       "</div>"
      ],
      "text/plain": [
       "        Temparature      Humidity      Moisture      Nitrogen     Potassium  \\\n",
       "count  15000.000000  15000.000000  15000.000000  15000.000000  15000.000000   \n",
       "mean      30.340114     59.188194     43.852507     19.156966      4.201368   \n",
       "std        3.304169      5.526760     10.468917     10.137319      4.289340   \n",
       "min       25.000000     50.000000     25.000000      4.000000      0.000000   \n",
       "25%       27.813303     54.990011     36.122527     11.094373      0.000000   \n",
       "50%       30.220540     59.019246     43.725939     18.845369      3.203152   \n",
       "75%       32.693885     63.089060     51.416972     26.250446      6.991703   \n",
       "max       38.000000     72.000000     65.000000     42.000000     19.000000   \n",
       "\n",
       "        Phosphorous  \n",
       "count  15000.000000  \n",
       "mean      19.016804  \n",
       "std       12.023812  \n",
       "min        0.000000  \n",
       "25%        9.530442  \n",
       "50%       18.835699  \n",
       "75%       27.759631  \n",
       "max       42.000000  "
      ]
     },
     "execution_count": 6,
     "metadata": {},
     "output_type": "execute_result"
    }
   ],
   "source": [
    "df.describe()"
   ]
  },
  {
   "cell_type": "code",
   "execution_count": 7,
   "metadata": {},
   "outputs": [
    {
     "name": "stdout",
     "output_type": "stream",
     "text": [
      "<class 'pandas.core.frame.DataFrame'>\n",
      "RangeIndex: 15000 entries, 0 to 14999\n",
      "Data columns (total 9 columns):\n",
      " #   Column           Non-Null Count  Dtype  \n",
      "---  ------           --------------  -----  \n",
      " 0   Temparature      15000 non-null  float64\n",
      " 1   Humidity         15000 non-null  float64\n",
      " 2   Moisture         15000 non-null  float64\n",
      " 3   Nitrogen         15000 non-null  float64\n",
      " 4   Potassium        15000 non-null  float64\n",
      " 5   Phosphorous      15000 non-null  float64\n",
      " 6   Soil Type        15000 non-null  object \n",
      " 7   Crop Type        15000 non-null  object \n",
      " 8   Fertilizer Name  15000 non-null  object \n",
      "dtypes: float64(6), object(3)\n",
      "memory usage: 1.0+ MB\n"
     ]
    }
   ],
   "source": [
    "df.info()"
   ]
  },
  {
   "cell_type": "markdown",
   "metadata": {},
   "source": [
    "## **3. Sample Pre-Processing**\n",
    "\n",
    "\n",
    "\n",
    "In this step, we focus on preparing the data for modeling by addressing missing values, outliers, and duplicates. First, we identify and handle missing values using imputation or removal strategies based on the feature type.Duplicates are checked and removed if necessary. Lastly, we ensure consistency in data types, correcting any inconsistencies to maintain data integrity before model training."
   ]
  },
  {
   "cell_type": "markdown",
   "metadata": {},
   "source": [
    "### *Handle Missing Values*"
   ]
  },
  {
   "cell_type": "code",
   "execution_count": 8,
   "metadata": {},
   "outputs": [
    {
     "data": {
      "text/plain": [
       "Temparature        0\n",
       "Humidity           0\n",
       "Moisture           0\n",
       "Nitrogen           0\n",
       "Potassium          0\n",
       "Phosphorous        0\n",
       "Soil Type          0\n",
       "Crop Type          0\n",
       "Fertilizer Name    0\n",
       "dtype: int64"
      ]
     },
     "execution_count": 8,
     "metadata": {},
     "output_type": "execute_result"
    }
   ],
   "source": [
    "df.isnull().sum()"
   ]
  },
  {
   "cell_type": "markdown",
   "metadata": {},
   "source": [
    "### *Encoding Categorical Variables*"
   ]
  },
  {
   "cell_type": "code",
   "execution_count": 9,
   "metadata": {},
   "outputs": [
    {
     "data": {
      "text/plain": [
       "Temparature        float64\n",
       "Humidity           float64\n",
       "Moisture           float64\n",
       "Nitrogen           float64\n",
       "Potassium          float64\n",
       "Phosphorous        float64\n",
       "Soil Type           object\n",
       "Crop Type           object\n",
       "Fertilizer Name     object\n",
       "dtype: object"
      ]
     },
     "execution_count": 9,
     "metadata": {},
     "output_type": "execute_result"
    }
   ],
   "source": [
    "df.dtypes"
   ]
  },
  {
   "cell_type": "code",
   "execution_count": 10,
   "metadata": {},
   "outputs": [
    {
     "data": {
      "text/html": [
       "<div>\n",
       "<style scoped>\n",
       "    .dataframe tbody tr th:only-of-type {\n",
       "        vertical-align: middle;\n",
       "    }\n",
       "\n",
       "    .dataframe tbody tr th {\n",
       "        vertical-align: top;\n",
       "    }\n",
       "\n",
       "    .dataframe thead th {\n",
       "        text-align: right;\n",
       "    }\n",
       "</style>\n",
       "<table border=\"1\" class=\"dataframe\">\n",
       "  <thead>\n",
       "    <tr style=\"text-align: right;\">\n",
       "      <th></th>\n",
       "      <th>Temparature</th>\n",
       "      <th>Humidity</th>\n",
       "      <th>Moisture</th>\n",
       "      <th>Nitrogen</th>\n",
       "      <th>Potassium</th>\n",
       "      <th>Phosphorous</th>\n",
       "      <th>Soil Type</th>\n",
       "      <th>Crop Type</th>\n",
       "      <th>Fertilizer Name</th>\n",
       "    </tr>\n",
       "  </thead>\n",
       "  <tbody>\n",
       "    <tr>\n",
       "      <th>0</th>\n",
       "      <td>28.638556</td>\n",
       "      <td>57.802320</td>\n",
       "      <td>27.318120</td>\n",
       "      <td>27.103563</td>\n",
       "      <td>8.057391</td>\n",
       "      <td>0.000000</td>\n",
       "      <td>4</td>\n",
       "      <td>1</td>\n",
       "      <td>4</td>\n",
       "    </tr>\n",
       "    <tr>\n",
       "      <th>1</th>\n",
       "      <td>32.677254</td>\n",
       "      <td>61.838722</td>\n",
       "      <td>48.305496</td>\n",
       "      <td>23.728414</td>\n",
       "      <td>8.565797</td>\n",
       "      <td>6.124962</td>\n",
       "      <td>1</td>\n",
       "      <td>10</td>\n",
       "      <td>4</td>\n",
       "    </tr>\n",
       "    <tr>\n",
       "      <th>2</th>\n",
       "      <td>29.517047</td>\n",
       "      <td>57.453726</td>\n",
       "      <td>44.630373</td>\n",
       "      <td>4.000000</td>\n",
       "      <td>3.957860</td>\n",
       "      <td>34.317533</td>\n",
       "      <td>3</td>\n",
       "      <td>9</td>\n",
       "      <td>6</td>\n",
       "    </tr>\n",
       "    <tr>\n",
       "      <th>3</th>\n",
       "      <td>32.530094</td>\n",
       "      <td>62.716442</td>\n",
       "      <td>46.442380</td>\n",
       "      <td>29.280017</td>\n",
       "      <td>0.000000</td>\n",
       "      <td>31.379831</td>\n",
       "      <td>0</td>\n",
       "      <td>10</td>\n",
       "      <td>3</td>\n",
       "    </tr>\n",
       "    <tr>\n",
       "      <th>4</th>\n",
       "      <td>30.926704</td>\n",
       "      <td>60.487777</td>\n",
       "      <td>45.762867</td>\n",
       "      <td>26.925033</td>\n",
       "      <td>0.000000</td>\n",
       "      <td>17.130972</td>\n",
       "      <td>2</td>\n",
       "      <td>0</td>\n",
       "      <td>6</td>\n",
       "    </tr>\n",
       "  </tbody>\n",
       "</table>\n",
       "</div>"
      ],
      "text/plain": [
       "   Temparature   Humidity   Moisture   Nitrogen  Potassium  Phosphorous  \\\n",
       "0    28.638556  57.802320  27.318120  27.103563   8.057391     0.000000   \n",
       "1    32.677254  61.838722  48.305496  23.728414   8.565797     6.124962   \n",
       "2    29.517047  57.453726  44.630373   4.000000   3.957860    34.317533   \n",
       "3    32.530094  62.716442  46.442380  29.280017   0.000000    31.379831   \n",
       "4    30.926704  60.487777  45.762867  26.925033   0.000000    17.130972   \n",
       "\n",
       "   Soil Type  Crop Type  Fertilizer Name  \n",
       "0          4          1                4  \n",
       "1          1         10                4  \n",
       "2          3          9                6  \n",
       "3          0         10                3  \n",
       "4          2          0                6  "
      ]
     },
     "execution_count": 10,
     "metadata": {},
     "output_type": "execute_result"
    }
   ],
   "source": [
    "label_encoder = LabelEncoder()\n",
    "df['Soil Type'] = label_encoder.fit_transform(df['Soil Type'])\n",
    "df['Crop Type'] = label_encoder.fit_transform(df['Crop Type'])\n",
    "df['Fertilizer Name'] = label_encoder.fit_transform(df['Fertilizer Name'])\n",
    "# Check the transformed data\n",
    "df.head()"
   ]
  },
  {
   "cell_type": "code",
   "execution_count": 11,
   "metadata": {},
   "outputs": [],
   "source": [
    "#just for future purpose\n",
    "data = df.copy()"
   ]
  },
  {
   "cell_type": "markdown",
   "metadata": {},
   "source": [
    "### **Train/Test Split**"
   ]
  },
  {
   "cell_type": "code",
   "execution_count": 12,
   "metadata": {},
   "outputs": [],
   "source": [
    "# Dividing The Target Column from Dataset\n",
    "b = df['Fertilizer Name']\n",
    "A = df.drop(columns=['Fertilizer Name'])"
   ]
  },
  {
   "cell_type": "code",
   "execution_count": 13,
   "metadata": {},
   "outputs": [],
   "source": [
    "A_train, A_test, b_train, b_test = train_test_split(A, b, test_size=0.2, random_state=42)"
   ]
  },
  {
   "cell_type": "code",
   "execution_count": 14,
   "metadata": {},
   "outputs": [
    {
     "name": "stdout",
     "output_type": "stream",
     "text": [
      "Shape of X Train: (12000, 8)\n",
      "Shape of y Train: (12000,)\n",
      "Shape of X Test: (3000, 8)\n",
      "Shape of y Test: (3000,)\n"
     ]
    }
   ],
   "source": [
    "print(\"Shape of X Train:\",A_train.shape)\n",
    "print(\"Shape of y Train:\",b_train.shape)\n",
    "print(\"Shape of X Test:\",A_test.shape)\n",
    "print(\"Shape of y Test:\",b_test.shape)"
   ]
  },
  {
   "cell_type": "markdown",
   "metadata": {},
   "source": [
    "### **Modelling**"
   ]
  },
  {
   "cell_type": "code",
   "execution_count": 15,
   "metadata": {},
   "outputs": [],
   "source": [
    "# Models to evaluate\n",
    "models = {\n",
    "    \"Logistic Regression\": LogisticRegression(random_state=42),\n",
    "    \"Decision Tree\": DecisionTreeClassifier(random_state=42),\n",
    "    \"Support Vector Machine\": SVC(random_state=42,probability=True),\n",
    "    \"Random Forest\": RandomForestClassifier(random_state=42),\n",
    "    \"XGBoost\": XGBClassifier(random_state=42, use_label_encoder=False, eval_metric=\"logloss\")\n",
    "}"
   ]
  },
  {
   "cell_type": "code",
   "execution_count": 16,
   "metadata": {},
   "outputs": [],
   "source": [
    "before_results=[]"
   ]
  },
  {
   "cell_type": "code",
   "execution_count": 17,
   "metadata": {},
   "outputs": [],
   "source": [
    "for name, model in models.items():\n",
    "    # Fit the model\n",
    "    model.fit(A_train, b_train)\n",
    "    \n",
    "    # Make predictions\n",
    "    b_pred = model.predict(A_test)\n",
    "    b_prob = model.predict_proba(A_test)\n",
    "\n",
    "    # Calculate metrics\n",
    "    accuracy = accuracy_score(b_test, b_pred)\n",
    "    precision = precision_score(b_test, b_pred, average='weighted')  \n",
    "    recall = recall_score(b_test, b_pred, average='weighted')  \n",
    "    f1 = f1_score(b_test, b_pred, average='weighted')  \n",
    "    auc = roc_auc_score(b_test, b_prob, multi_class='ovr') if b_prob is not None else \"Not Applicable\"\n",
    "    \n",
    "    # Store results\n",
    "    before_results.append({\n",
    "        \"Model\": name,\n",
    "        \"Accuracy\": accuracy,\n",
    "        \"Precision\": precision,\n",
    "        \"Recall\": recall,\n",
    "        \"F1-Score\": f1,\n",
    "        \"AUC\": auc\n",
    "    })"
   ]
  },
  {
   "cell_type": "code",
   "execution_count": 18,
   "metadata": {},
   "outputs": [
    {
     "data": {
      "text/html": [
       "<div>\n",
       "<style scoped>\n",
       "    .dataframe tbody tr th:only-of-type {\n",
       "        vertical-align: middle;\n",
       "    }\n",
       "\n",
       "    .dataframe tbody tr th {\n",
       "        vertical-align: top;\n",
       "    }\n",
       "\n",
       "    .dataframe thead th {\n",
       "        text-align: right;\n",
       "    }\n",
       "</style>\n",
       "<table border=\"1\" class=\"dataframe\">\n",
       "  <thead>\n",
       "    <tr style=\"text-align: right;\">\n",
       "      <th></th>\n",
       "      <th>Model</th>\n",
       "      <th>Accuracy</th>\n",
       "      <th>Precision</th>\n",
       "      <th>Recall</th>\n",
       "      <th>F1-Score</th>\n",
       "      <th>AUC</th>\n",
       "    </tr>\n",
       "  </thead>\n",
       "  <tbody>\n",
       "    <tr>\n",
       "      <th>0</th>\n",
       "      <td>Logistic Regression</td>\n",
       "      <td>0.212000</td>\n",
       "      <td>0.082635</td>\n",
       "      <td>0.212000</td>\n",
       "      <td>0.089216</td>\n",
       "      <td>0.502488</td>\n",
       "    </tr>\n",
       "    <tr>\n",
       "      <th>1</th>\n",
       "      <td>Decision Tree</td>\n",
       "      <td>0.168000</td>\n",
       "      <td>0.165742</td>\n",
       "      <td>0.168000</td>\n",
       "      <td>0.166630</td>\n",
       "      <td>0.504501</td>\n",
       "    </tr>\n",
       "    <tr>\n",
       "      <th>2</th>\n",
       "      <td>Support Vector Machine</td>\n",
       "      <td>0.211000</td>\n",
       "      <td>0.044521</td>\n",
       "      <td>0.211000</td>\n",
       "      <td>0.073528</td>\n",
       "      <td>0.492154</td>\n",
       "    </tr>\n",
       "    <tr>\n",
       "      <th>3</th>\n",
       "      <td>Random Forest</td>\n",
       "      <td>0.186667</td>\n",
       "      <td>0.165567</td>\n",
       "      <td>0.186667</td>\n",
       "      <td>0.165709</td>\n",
       "      <td>0.498568</td>\n",
       "    </tr>\n",
       "    <tr>\n",
       "      <th>4</th>\n",
       "      <td>XGBoost</td>\n",
       "      <td>0.185000</td>\n",
       "      <td>0.168600</td>\n",
       "      <td>0.185000</td>\n",
       "      <td>0.169225</td>\n",
       "      <td>0.495590</td>\n",
       "    </tr>\n",
       "  </tbody>\n",
       "</table>\n",
       "</div>"
      ],
      "text/plain": [
       "                    Model  Accuracy  Precision    Recall  F1-Score       AUC\n",
       "0     Logistic Regression  0.212000   0.082635  0.212000  0.089216  0.502488\n",
       "1           Decision Tree  0.168000   0.165742  0.168000  0.166630  0.504501\n",
       "2  Support Vector Machine  0.211000   0.044521  0.211000  0.073528  0.492154\n",
       "3           Random Forest  0.186667   0.165567  0.186667  0.165709  0.498568\n",
       "4                 XGBoost  0.185000   0.168600  0.185000  0.169225  0.495590"
      ]
     },
     "execution_count": 18,
     "metadata": {},
     "output_type": "execute_result"
    }
   ],
   "source": [
    "# Convert hyper_results to a DataFrame\n",
    "before_results_df = pd.DataFrame(before_results)\n",
    "before_results_df"
   ]
  },
  {
   "cell_type": "markdown",
   "metadata": {},
   "source": [
    "## **Pre-Processing**"
   ]
  },
  {
   "cell_type": "markdown",
   "metadata": {},
   "source": [
    "### *Remove Duplicates*"
   ]
  },
  {
   "cell_type": "code",
   "execution_count": 19,
   "metadata": {},
   "outputs": [
    {
     "name": "stdout",
     "output_type": "stream",
     "text": [
      "Number of duplicate rows: 0\n",
      "No duplicates found.\n"
     ]
    }
   ],
   "source": [
    "# Check for duplicates\n",
    "duplicates = data.duplicated().sum()\n",
    "print(f\"Number of duplicate rows: {duplicates}\")\n",
    "# Drop duplicates if they exist\n",
    "if duplicates > 0:\n",
    "    data = data.drop_duplicates()\n",
    "    print(\"Duplicates removed.\")\n",
    "else:\n",
    "    print(\"No duplicates found.\")"
   ]
  },
  {
   "cell_type": "code",
   "execution_count": 20,
   "metadata": {},
   "outputs": [
    {
     "name": "stdout",
     "output_type": "stream",
     "text": [
      "Fertilizer Name\n",
      "6    3318\n",
      "5    2774\n",
      "4    2497\n",
      "3    2215\n",
      "1    2068\n",
      "2    1390\n",
      "0     738\n",
      "Name: count, dtype: int64\n"
     ]
    }
   ],
   "source": [
    "count = data['Fertilizer Name'].value_counts()\n",
    "print(count)"
   ]
  },
  {
   "cell_type": "markdown",
   "metadata": {},
   "source": [
    "##### *The dataset has been checked for *missing values*, and there are *no null values* present across any feature.*"
   ]
  },
  {
   "cell_type": "markdown",
   "metadata": {},
   "source": [
    "### *Finding Outliers*"
   ]
  },
  {
   "cell_type": "markdown",
   "metadata": {},
   "source": [
    "#### *IQR Method for Outlier Detection*"
   ]
  },
  {
   "cell_type": "code",
   "execution_count": 21,
   "metadata": {},
   "outputs": [
    {
     "name": "stdout",
     "output_type": "stream",
     "text": [
      "Outlier indices: [32, 33, 47, 107, 108, 144, 197, 234, 238, 286, 298, 304, 307, 314, 316, 350, 356, 374, 395, 434, 444, 468, 484, 510, 514, 522, 533, 572, 602, 621, 623, 651, 669, 682, 686, 707, 719, 721, 722, 774, 823, 828, 836, 838, 852, 865, 875, 912, 914, 918, 959, 976, 1004, 1010, 1030, 1045, 1054, 1067, 1081, 1113, 1131, 1197, 1199, 1209, 1215, 1221, 1224, 1244, 1256, 1273, 1285, 1298, 1299, 1333, 1345, 1352, 1370, 1407, 1461, 1482, 1515, 1521, 1569, 1576, 1586, 1614, 1638, 1712, 1728, 1757, 1781, 1792, 1803, 1831, 1837, 1858, 1886, 1926, 1967, 1982, 1998, 2036, 2042, 2048, 2059, 2061, 2115, 2130, 2173, 2245, 2263, 2265, 2271, 2314, 2319, 2327, 2363, 2369, 2422, 2425, 2449, 2452, 2467, 2487, 2501, 2513, 2530, 2535, 2538, 2542, 2551, 2555, 2559, 2560, 2613, 2644, 2654, 2678, 2739, 2741, 2746, 2775, 2837, 2873, 2891, 2906, 2929, 2953, 2967, 2973, 2974, 3040, 3044, 3049, 3059, 3075, 3129, 3165, 3184, 3197, 3228, 3229, 3381, 3389, 3393, 3400, 3421, 3453, 3476, 3479, 3547, 3557, 3558, 3566, 3612, 3640, 3647, 3685, 3692, 3699, 3700, 3709, 3713, 3723, 3751, 3770, 3771, 3833, 3840, 3843, 3863, 3864, 3873, 3876, 3880, 3888, 3921, 3933, 3956, 3968, 3976, 3981, 4027, 4028, 4048, 4080, 4082, 4139, 4156, 4179, 4249, 4263, 4273, 4292, 4318, 4345, 4346, 4347, 4354, 4357, 4395, 4399, 4426, 4432, 4518, 4548, 4573, 4576, 4582, 4593, 4601, 4665, 4712, 4726, 4745, 4750, 4765, 4766, 4768, 4794, 4809, 4874, 4897, 4908, 4938, 4940, 4961, 5014, 5019, 5035, 5056, 5057, 5062, 5080, 5087, 5115, 5120, 5129, 5133, 5184, 5189, 5218, 5226, 5250, 5301, 5306, 5308, 5317, 5329, 5339, 5371, 5378, 5415, 5435, 5457, 5506, 5522, 5540, 5555, 5559, 5562, 5567, 5587, 5615, 5621, 5627, 5633, 5654, 5709, 5733, 5761, 5765, 5767, 5768, 5779, 5802, 5873, 5874, 5879, 5903, 5939, 5974, 6006, 6011, 6038, 6049, 6055, 6067, 6087, 6109, 6126, 6163, 6184, 6185, 6196, 6201, 6271, 6279, 6306, 6357, 6366, 6419, 6424, 6442, 6443, 6448, 6462, 6470, 6479, 6497, 6503, 6513, 6536, 6543, 6547, 6548, 6563, 6577, 6589, 6607, 6609, 6638, 6667, 6719, 6743, 6775, 6781, 6799, 6801, 6815, 6838, 6850, 6860, 6865, 6870, 6891, 6897, 6929, 6939, 6946, 6984, 7027, 7050, 7054, 7109, 7113, 7119, 7129, 7164, 7170, 7173, 7192, 7195, 7213, 7235, 7249, 7273, 7300, 7308, 7356, 7377, 7384, 7433, 7467, 7484, 7500, 7522, 7530, 7547, 7573, 7583, 7612, 7615, 7660, 7744, 7812, 7823, 7824, 7849, 7923, 7930, 7954, 8017, 8018, 8031, 8033, 8058, 8077, 8089, 8114, 8117, 8197, 8201, 8218, 8224, 8226, 8264, 8270, 8293, 8331, 8334, 8341, 8356, 8393, 8464, 8469, 8515, 8523, 8574, 8593, 8594, 8611, 8615, 8686, 8710, 8715, 8794, 8803, 8815, 8852, 8925, 8943, 8967, 8975, 8981, 8991, 9011, 9023, 9041, 9042, 9049, 9068, 9080, 9086, 9094, 9099, 9100, 9135, 9209, 9252, 9256, 9282, 9294, 9309, 9349, 9462, 9480, 9496, 9508, 9542, 9553, 9568, 9606, 9609, 9661, 9665, 9671, 9693, 9698, 9699, 9710, 9802, 9804, 9878, 9885, 9940, 9962, 10044, 10060, 10081, 10083, 10104, 10105, 10107, 10151, 10153, 10162, 10170, 10188, 10189, 10192, 10206, 10208, 10253, 10308, 10313, 10350, 10382, 10388, 10400, 10450, 10489, 10508, 10517, 10521, 10568, 10572, 10585, 10594, 10600, 10639, 10645, 10655, 10671, 10677, 10680, 10716, 10723, 10740, 10779, 10792, 10847, 10902, 11049, 11064, 11068, 11086, 11101, 11102, 11128, 11145, 11154, 11159, 11181, 11262, 11285, 11302, 11307, 11309, 11328, 11352, 11353, 11368, 11383, 11405, 11407, 11436, 11446, 11458, 11500, 11503, 11530, 11532, 11545, 11589, 11597, 11613, 11680, 11693, 11733, 11744, 11787, 11842, 11849, 11852, 11857, 11863, 11864, 11887, 11903, 11907, 11975, 11980, 11988, 11989, 12023, 12066, 12074, 12090, 12123, 12140, 12142, 12148, 12163, 12168, 12180, 12185, 12199, 12243, 12274, 12276, 12291, 12312, 12317, 12320, 12345, 12352, 12411, 12453, 12485, 12509, 12515, 12519, 12529, 12543, 12551, 12552, 12559, 12561, 12570, 12572, 12582, 12586, 12588, 12591, 12599, 12628, 12654, 12659, 12688, 12697, 12748, 12781, 12811, 12844, 12850, 12860, 12864, 12896, 12940, 12962, 13023, 13069, 13092, 13128, 13131, 13148, 13149, 13157, 13225, 13288, 13322, 13325, 13345, 13368, 13386, 13414, 13424, 13430, 13485, 13487, 13497, 13513, 13522, 13524, 13535, 13540, 13557, 13582, 13583, 13636, 13666, 13668, 13673, 13691, 13697, 13703, 13708, 13742, 13756, 13762, 13765, 13815, 13868, 13910, 13942, 13997, 14000, 14032, 14042, 14093, 14094, 14115, 14123, 14149, 14153, 14165, 14168, 14191, 14194, 14195, 14268, 14273, 14298, 14327, 14338, 14360, 14372, 14375, 14422, 14439, 14441, 14457, 14465, 14472, 14475, 14497, 14501, 14547, 14563, 14570, 14611, 14648, 14660, 14662, 14673, 14687, 14696, 14717, 14728, 14735, 14742, 14762, 14763, 14774, 14785, 14846, 14853, 14865, 14870, 14873, 14917, 14924, 14938, 14951, 14956, 14959, 14963, 14968, 14982]\n"
     ]
    }
   ],
   "source": [
    "def detect_outliers_lof(df):\n",
    "    df_numeric = df.select_dtypes(include=['float64', 'int64'])    \n",
    "    # Fit the LOF model\n",
    "    model = LocalOutlierFactor(n_neighbors=20, contamination=0.05)\n",
    "    outliers = model.fit_predict(df_numeric)    \n",
    "    # -1 indicates an outlier, 1 indicates a normal point\n",
    "    outlier_indices = df_numeric.index[outliers == -1].tolist()    \n",
    "    return outlier_indices\n",
    "\n",
    "outliers_lof = detect_outliers_lof(data)\n",
    "print(\"Outlier indices:\", outliers_lof)"
   ]
  },
  {
   "cell_type": "code",
   "execution_count": 22,
   "metadata": {},
   "outputs": [
    {
     "name": "stdout",
     "output_type": "stream",
     "text": [
      "Shape of original data: (15000, 9)\n",
      "Shape of cleaned data: (14250, 9)\n"
     ]
    }
   ],
   "source": [
    "# Remove outliers\n",
    "print(\"Shape of original data:\", data.shape)\n",
    "data = data.drop(index=outliers_lof)\n",
    "print(\"Shape of cleaned data:\", data.shape)"
   ]
  },
  {
   "cell_type": "markdown",
   "metadata": {},
   "source": [
    "### *Standardize Data Types*"
   ]
  },
  {
   "cell_type": "markdown",
   "metadata": {},
   "source": [
    "To ensure data consistency, we will standardize the data types across all columns. For columns with **categorical data** (dtype 'object'), we will convert them to **strings**. For **numerical columns**, we will ensure they are of type **float**. This step helps maintain uniformity and prevents issues during model training."
   ]
  },
  {
   "cell_type": "code",
   "execution_count": 23,
   "metadata": {},
   "outputs": [],
   "source": [
    "# Ensure consistent data types\n",
    "for col in data.columns:\n",
    "    if data[col].dtype == 'object':\n",
    "        data[col] = data[col].astype(str)\n",
    "    else:\n",
    "        data[col] = data[col].astype(float)"
   ]
  },
  {
   "cell_type": "markdown",
   "metadata": {},
   "source": [
    "### *Heatmap (Co-relation Matrix)*"
   ]
  },
  {
   "cell_type": "code",
   "execution_count": 24,
   "metadata": {},
   "outputs": [
    {
     "data": {
      "image/png": "[encoded data removed]",
      "text/plain": [
       "<Figure size 2100x1700 with 2 Axes>"
      ]
     },
     "metadata": {},
     "output_type": "display_data"
    }
   ],
   "source": [
    "# Adjusting the figure size and font size for better readability\n",
    "plt.figure(figsize=(21, 17))  # Increase figure size\n",
    "sns.heatmap(data.corr(), annot=True, cmap='coolwarm', fmt=\".2f\", annot_kws={\"size\": 10})  # Adjust font size\n",
    "plt.title(\"Feature Correlation\", fontsize=16)  # Increase title font size\n",
    "plt.xticks(fontsize=10)  # Adjust x-axis font size\n",
    "plt.yticks(fontsize=10)  # Adjust y-axis font size\n",
    "plt.show()"
   ]
  },
  {
   "cell_type": "markdown",
   "metadata": {},
   "source": [
    "### ***Checking If Dataset is Imbalanced or Not?***"
   ]
  },
  {
   "cell_type": "code",
   "execution_count": 25,
   "metadata": {},
   "outputs": [
    {
     "name": "stdout",
     "output_type": "stream",
     "text": [
      "Fertilizer Name\n",
      "6.0    3169\n",
      "5.0    2655\n",
      "4.0    2404\n",
      "3.0    2115\n",
      "1.0    1926\n",
      "2.0    1318\n",
      "0.0     663\n",
      "Name: count, dtype: int64\n"
     ]
    }
   ],
   "source": [
    "print(data['Fertilizer Name'].value_counts())"
   ]
  },
  {
   "cell_type": "code",
   "execution_count": 26,
   "metadata": {},
   "outputs": [
    {
     "data": {
      "image/png": "[encoded data removed]",
      "text/plain": [
       "<Figure size 640x480 with 1 Axes>"
      ]
     },
     "metadata": {},
     "output_type": "display_data"
    }
   ],
   "source": [
    "data['Fertilizer Name'].value_counts().plot(kind='bar')\n",
    "plt.title(\"Class Distribution\")\n",
    "plt.xlabel(\"Class\")\n",
    "plt.ylabel(\"Count\")\n",
    "plt.show()"
   ]
  },
  {
   "cell_type": "markdown",
   "metadata": {},
   "source": [
    "#### **This is Imbalanced Dataset**\n",
    "The dataset is imbalanced because the class distribution is uneven, with Class 6.0 having significantly more samples than Class 0.0 (approximately 6:1 ratio).\\\n",
    "This disproportionate representation can bias models toward the majority class, leading to poor performance on minority classes."
   ]
  },
  {
   "cell_type": "markdown",
   "metadata": {},
   "source": [
    "## **4. Dimensionality Reduction**"
   ]
  },
  {
   "cell_type": "markdown",
   "metadata": {},
   "source": [
    "### *Principal Component Analysis (PCA)*"
   ]
  },
  {
   "cell_type": "markdown",
   "metadata": {},
   "source": [
    "PCA transforms the data into new axes (principal components) that maximize variance, reducing dimensions while retaining the most important information."
   ]
  },
  {
   "cell_type": "code",
   "execution_count": 27,
   "metadata": {},
   "outputs": [
    {
     "name": "stdout",
     "output_type": "stream",
     "text": [
      "Explained variance ratio: [0.49322844 0.25979162 0.11764103 0.06897842 0.02391031 0.02276949\n",
      " 0.00820315]\n"
     ]
    }
   ],
   "source": [
    "pca = PCA(n_components=7)\n",
    "data_pca = pca.fit_transform(data) # storing in different Dataset variable\n",
    "\n",
    "print(\"Explained variance ratio:\", pca.explained_variance_ratio_)"
   ]
  },
  {
   "cell_type": "markdown",
   "metadata": {},
   "source": [
    "### *Data Transformation*"
   ]
  },
  {
   "cell_type": "code",
   "execution_count": 28,
   "metadata": {},
   "outputs": [],
   "source": [
    "# Initialize the scaler\n",
    "scaler = MinMaxScaler()"
   ]
  },
  {
   "cell_type": "code",
   "execution_count": 29,
   "metadata": {},
   "outputs": [],
   "source": [
    "# Separate features and target\n",
    "X = data.drop(columns=['Fertilizer Name'])  # Drop the target column\n",
    "y = data['Fertilizer Name']  # Target column"
   ]
  },
  {
   "cell_type": "code",
   "execution_count": 30,
   "metadata": {},
   "outputs": [],
   "source": [
    "# Scale the features\n",
    "scaled_features = scaler.fit_transform(X)"
   ]
  },
  {
   "cell_type": "code",
   "execution_count": 31,
   "metadata": {},
   "outputs": [],
   "source": [
    "# Create a new DataFrame with scaled features\n",
    "data_scaled = pd.DataFrame(scaled_features, columns=X.columns)"
   ]
  },
  {
   "cell_type": "code",
   "execution_count": 32,
   "metadata": {},
   "outputs": [],
   "source": [
    "# Add the target column back to the DataFrame\n",
    "data_scaled['label'] = y.values"
   ]
  },
  {
   "cell_type": "code",
   "execution_count": 33,
   "metadata": {},
   "outputs": [
    {
     "data": {
      "text/html": [
       "<div>\n",
       "<style scoped>\n",
       "    .dataframe tbody tr th:only-of-type {\n",
       "        vertical-align: middle;\n",
       "    }\n",
       "\n",
       "    .dataframe tbody tr th {\n",
       "        vertical-align: top;\n",
       "    }\n",
       "\n",
       "    .dataframe thead th {\n",
       "        text-align: right;\n",
       "    }\n",
       "</style>\n",
       "<table border=\"1\" class=\"dataframe\">\n",
       "  <thead>\n",
       "    <tr style=\"text-align: right;\">\n",
       "      <th></th>\n",
       "      <th>Temparature</th>\n",
       "      <th>Humidity</th>\n",
       "      <th>Moisture</th>\n",
       "      <th>Nitrogen</th>\n",
       "      <th>Potassium</th>\n",
       "      <th>Phosphorous</th>\n",
       "      <th>Soil Type</th>\n",
       "      <th>Crop Type</th>\n",
       "      <th>label</th>\n",
       "    </tr>\n",
       "  </thead>\n",
       "  <tbody>\n",
       "    <tr>\n",
       "      <th>0</th>\n",
       "      <td>0.279889</td>\n",
       "      <td>0.354651</td>\n",
       "      <td>0.057953</td>\n",
       "      <td>0.607988</td>\n",
       "      <td>0.424073</td>\n",
       "      <td>0.000000</td>\n",
       "      <td>1.00</td>\n",
       "      <td>0.1</td>\n",
       "      <td>4.0</td>\n",
       "    </tr>\n",
       "    <tr>\n",
       "      <th>1</th>\n",
       "      <td>0.590558</td>\n",
       "      <td>0.538124</td>\n",
       "      <td>0.582637</td>\n",
       "      <td>0.519169</td>\n",
       "      <td>0.450831</td>\n",
       "      <td>0.145832</td>\n",
       "      <td>0.25</td>\n",
       "      <td>1.0</td>\n",
       "      <td>4.0</td>\n",
       "    </tr>\n",
       "    <tr>\n",
       "      <th>2</th>\n",
       "      <td>0.347465</td>\n",
       "      <td>0.338806</td>\n",
       "      <td>0.490759</td>\n",
       "      <td>0.000000</td>\n",
       "      <td>0.208308</td>\n",
       "      <td>0.817084</td>\n",
       "      <td>0.75</td>\n",
       "      <td>0.9</td>\n",
       "      <td>6.0</td>\n",
       "    </tr>\n",
       "    <tr>\n",
       "      <th>3</th>\n",
       "      <td>0.579238</td>\n",
       "      <td>0.578020</td>\n",
       "      <td>0.536059</td>\n",
       "      <td>0.665264</td>\n",
       "      <td>0.000000</td>\n",
       "      <td>0.747139</td>\n",
       "      <td>0.00</td>\n",
       "      <td>1.0</td>\n",
       "      <td>3.0</td>\n",
       "    </tr>\n",
       "    <tr>\n",
       "      <th>4</th>\n",
       "      <td>0.455900</td>\n",
       "      <td>0.476717</td>\n",
       "      <td>0.519072</td>\n",
       "      <td>0.603290</td>\n",
       "      <td>0.000000</td>\n",
       "      <td>0.407880</td>\n",
       "      <td>0.50</td>\n",
       "      <td>0.0</td>\n",
       "      <td>6.0</td>\n",
       "    </tr>\n",
       "  </tbody>\n",
       "</table>\n",
       "</div>"
      ],
      "text/plain": [
       "   Temparature  Humidity  Moisture  Nitrogen  Potassium  Phosphorous  \\\n",
       "0     0.279889  0.354651  0.057953  0.607988   0.424073     0.000000   \n",
       "1     0.590558  0.538124  0.582637  0.519169   0.450831     0.145832   \n",
       "2     0.347465  0.338806  0.490759  0.000000   0.208308     0.817084   \n",
       "3     0.579238  0.578020  0.536059  0.665264   0.000000     0.747139   \n",
       "4     0.455900  0.476717  0.519072  0.603290   0.000000     0.407880   \n",
       "\n",
       "   Soil Type  Crop Type  label  \n",
       "0       1.00        0.1    4.0  \n",
       "1       0.25        1.0    4.0  \n",
       "2       0.75        0.9    6.0  \n",
       "3       0.00        1.0    3.0  \n",
       "4       0.50        0.0    6.0  "
      ]
     },
     "execution_count": 33,
     "metadata": {},
     "output_type": "execute_result"
    }
   ],
   "source": [
    "# Check the first few rows of the scaled data\n",
    "data_scaled.head()"
   ]
  },
  {
   "cell_type": "code",
   "execution_count": 34,
   "metadata": {},
   "outputs": [
    {
     "data": {
      "text/plain": [
       "label\n",
       "6.0    3169\n",
       "5.0    2655\n",
       "4.0    2404\n",
       "3.0    2115\n",
       "1.0    1926\n",
       "2.0    1318\n",
       "0.0     663\n",
       "Name: count, dtype: int64"
      ]
     },
     "execution_count": 34,
     "metadata": {},
     "output_type": "execute_result"
    }
   ],
   "source": [
    "data_scaled['label'].value_counts()"
   ]
  },
  {
   "cell_type": "markdown",
   "metadata": {},
   "source": [
    "## **6. Modelling**"
   ]
  },
  {
   "cell_type": "markdown",
   "metadata": {},
   "source": [
    "### *We Are going to Apply Following Models On Our Dataset:*\n",
    "**- Logistic Regression (LR)**\\\n",
    "**- Support Vector Machine (SVM)**\\\n",
    "**- Random Forest (RF)**\\\n",
    "**- Decision Tree (DT)**\\\n",
    "**- Gradient Boosting (GB)**"
   ]
  },
  {
   "cell_type": "markdown",
   "metadata": {},
   "source": [
    "### **Train/Test Split**"
   ]
  },
  {
   "cell_type": "code",
   "execution_count": 35,
   "metadata": {},
   "outputs": [],
   "source": [
    "# Dividing The Target Column from Dataset\n",
    "y = data_scaled['label']\n",
    "X = data_scaled.drop(columns=['label'])"
   ]
  },
  {
   "cell_type": "code",
   "execution_count": 36,
   "metadata": {},
   "outputs": [],
   "source": [
    "X_train, X_test, y_train, y_test = train_test_split(X, y, test_size=0.2, random_state=42)"
   ]
  },
  {
   "cell_type": "code",
   "execution_count": 37,
   "metadata": {},
   "outputs": [
    {
     "name": "stdout",
     "output_type": "stream",
     "text": [
      "Shape of X Train: (11400, 8)\n",
      "Shape of y Train: (11400,)\n",
      "Shape of X Test: (2850, 8)\n",
      "Shape of y Test: (2850,)\n"
     ]
    }
   ],
   "source": [
    "print(\"Shape of X Train:\",X_train.shape)\n",
    "print(\"Shape of y Train:\",y_train.shape)\n",
    "print(\"Shape of X Test:\",X_test.shape)\n",
    "print(\"Shape of y Test:\",y_test.shape)"
   ]
  },
  {
   "cell_type": "markdown",
   "metadata": {},
   "source": [
    "### **Modelling**"
   ]
  },
  {
   "cell_type": "code",
   "execution_count": 38,
   "metadata": {},
   "outputs": [],
   "source": [
    "# Models to evaluate\n",
    "models = {\n",
    "    \"Logistic Regression\": LogisticRegression(random_state=42),\n",
    "    \"Decision Tree\": DecisionTreeClassifier(random_state=42),\n",
    "    \"Support Vector Machine\": SVC(random_state=42,probability=True),\n",
    "    \"Random Forest\": RandomForestClassifier(random_state=42),\n",
    "    \"XGBoost\": XGBClassifier(random_state=42, use_label_encoder=False, eval_metric=\"logloss\")\n",
    "}"
   ]
  },
  {
   "cell_type": "code",
   "execution_count": 39,
   "metadata": {},
   "outputs": [],
   "source": [
    "# Results storage\n",
    "results = []"
   ]
  },
  {
   "cell_type": "code",
   "execution_count": 40,
   "metadata": {},
   "outputs": [],
   "source": [
    "for name, model in models.items():\n",
    "    # Fit the model\n",
    "    model.fit(X_train, y_train)\n",
    "    \n",
    "    # Make predictions\n",
    "    y_pred = model.predict(X_test)\n",
    "    y_prob = model.predict_proba(X_test)\n",
    "\n",
    "    # Calculate metrics\n",
    "    accuracy = accuracy_score(y_test, y_pred)\n",
    "    precision = precision_score(y_test, y_pred, average='weighted')  # Use appropriate average\n",
    "    recall = recall_score(y_test, y_pred, average='weighted')  # Use appropriate average\n",
    "    f1 = f1_score(y_test, y_pred, average='weighted')  # Use appropriate average\n",
    "    auc = roc_auc_score(y_test, y_prob, multi_class='ovr') if y_prob is not None else \"Not Applicable\"\n",
    "    \n",
    "    # Store results\n",
    "    results.append({\n",
    "        \"Model\": name,\n",
    "        \"Accuracy\": accuracy,\n",
    "        \"Precision\": precision,\n",
    "        \"Recall\": recall,\n",
    "        \"F1-Score\": f1,\n",
    "        \"AUC\": auc\n",
    "    })"
   ]
  },
  {
   "cell_type": "code",
   "execution_count": 41,
   "metadata": {},
   "outputs": [
    {
     "name": "stdout",
     "output_type": "stream",
     "text": [
      "{'Model': 'Logistic Regression', 'Accuracy': 0.22666666666666666, 'Precision': np.float64(0.09984917240096708), 'Recall': np.float64(0.22666666666666666), 'F1-Score': np.float64(0.08698430707555514), 'AUC': np.float64(0.501442395229206)}\n",
      "{'Model': 'Decision Tree', 'Accuracy': 0.1712280701754386, 'Precision': np.float64(0.17262864436922853), 'Recall': np.float64(0.1712280701754386), 'F1-Score': np.float64(0.17180398481679943), 'AUC': np.float64(0.5037921844055647)}\n",
      "{'Model': 'Support Vector Machine', 'Accuracy': 0.22035087719298246, 'Precision': np.float64(0.10638365871449913), 'Recall': np.float64(0.22035087719298246), 'F1-Score': np.float64(0.10262921877479653), 'AUC': np.float64(0.4878927571416988)}\n",
      "{'Model': 'Random Forest', 'Accuracy': 0.20385964912280702, 'Precision': np.float64(0.18286850413398364), 'Recall': np.float64(0.20385964912280702), 'F1-Score': np.float64(0.18349007222513883), 'AUC': np.float64(0.5039451713728373)}\n",
      "{'Model': 'XGBoost', 'Accuracy': 0.18526315789473685, 'Precision': np.float64(0.1630112104788805), 'Recall': np.float64(0.18526315789473685), 'F1-Score': np.float64(0.16875963832294918), 'AUC': np.float64(0.51184053568012)}\n"
     ]
    }
   ],
   "source": [
    "# Print results\n",
    "for result in results:\n",
    "    print(result)"
   ]
  },
  {
   "cell_type": "code",
   "execution_count": 42,
   "metadata": {},
   "outputs": [
    {
     "data": {
      "text/html": [
       "<div>\n",
       "<style scoped>\n",
       "    .dataframe tbody tr th:only-of-type {\n",
       "        vertical-align: middle;\n",
       "    }\n",
       "\n",
       "    .dataframe tbody tr th {\n",
       "        vertical-align: top;\n",
       "    }\n",
       "\n",
       "    .dataframe thead th {\n",
       "        text-align: right;\n",
       "    }\n",
       "</style>\n",
       "<table border=\"1\" class=\"dataframe\">\n",
       "  <thead>\n",
       "    <tr style=\"text-align: right;\">\n",
       "      <th></th>\n",
       "      <th>Model</th>\n",
       "      <th>Accuracy</th>\n",
       "      <th>Precision</th>\n",
       "      <th>Recall</th>\n",
       "      <th>F1-Score</th>\n",
       "      <th>AUC</th>\n",
       "    </tr>\n",
       "  </thead>\n",
       "  <tbody>\n",
       "    <tr>\n",
       "      <th>0</th>\n",
       "      <td>Logistic Regression</td>\n",
       "      <td>0.226667</td>\n",
       "      <td>0.099849</td>\n",
       "      <td>0.226667</td>\n",
       "      <td>0.086984</td>\n",
       "      <td>0.501442</td>\n",
       "    </tr>\n",
       "    <tr>\n",
       "      <th>1</th>\n",
       "      <td>Decision Tree</td>\n",
       "      <td>0.171228</td>\n",
       "      <td>0.172629</td>\n",
       "      <td>0.171228</td>\n",
       "      <td>0.171804</td>\n",
       "      <td>0.503792</td>\n",
       "    </tr>\n",
       "    <tr>\n",
       "      <th>2</th>\n",
       "      <td>Support Vector Machine</td>\n",
       "      <td>0.220351</td>\n",
       "      <td>0.106384</td>\n",
       "      <td>0.220351</td>\n",
       "      <td>0.102629</td>\n",
       "      <td>0.487893</td>\n",
       "    </tr>\n",
       "    <tr>\n",
       "      <th>3</th>\n",
       "      <td>Random Forest</td>\n",
       "      <td>0.203860</td>\n",
       "      <td>0.182869</td>\n",
       "      <td>0.203860</td>\n",
       "      <td>0.183490</td>\n",
       "      <td>0.503945</td>\n",
       "    </tr>\n",
       "    <tr>\n",
       "      <th>4</th>\n",
       "      <td>XGBoost</td>\n",
       "      <td>0.185263</td>\n",
       "      <td>0.163011</td>\n",
       "      <td>0.185263</td>\n",
       "      <td>0.168760</td>\n",
       "      <td>0.511841</td>\n",
       "    </tr>\n",
       "  </tbody>\n",
       "</table>\n",
       "</div>"
      ],
      "text/plain": [
       "                    Model  Accuracy  Precision    Recall  F1-Score       AUC\n",
       "0     Logistic Regression  0.226667   0.099849  0.226667  0.086984  0.501442\n",
       "1           Decision Tree  0.171228   0.172629  0.171228  0.171804  0.503792\n",
       "2  Support Vector Machine  0.220351   0.106384  0.220351  0.102629  0.487893\n",
       "3           Random Forest  0.203860   0.182869  0.203860  0.183490  0.503945\n",
       "4                 XGBoost  0.185263   0.163011  0.185263  0.168760  0.511841"
      ]
     },
     "execution_count": 42,
     "metadata": {},
     "output_type": "execute_result"
    }
   ],
   "source": [
    "# Convert hyper_results to a DataFrame\n",
    "df_results = pd.DataFrame(results)\n",
    "df_results"
   ]
  },
  {
   "cell_type": "markdown",
   "metadata": {},
   "source": [
    "## **7. Hyperparameter tuning**"
   ]
  },
  {
   "cell_type": "code",
   "execution_count": 43,
   "metadata": {},
   "outputs": [],
   "source": [
    "results=[]"
   ]
  },
  {
   "cell_type": "markdown",
   "metadata": {},
   "source": [
    "### *Logistic Regression (No Tuning)*"
   ]
  },
  {
   "cell_type": "code",
   "execution_count": 44,
   "metadata": {},
   "outputs": [
    {
     "name": "stdout",
     "output_type": "stream",
     "text": [
      "Best Parameters for Logistic Regression: {'C': 10, 'solver': 'lbfgs'}\n"
     ]
    }
   ],
   "source": [
    "# Fit the grid search\n",
    "param_grid_lr = {\n",
    "    'C': [0.1, 1, 10],\n",
    "    'solver': ['liblinear', 'lbfgs']\n",
    "}\n",
    "lr = LogisticRegression(max_iter=500, random_state=42)\n",
    "grid_search_lr = GridSearchCV(lr, param_grid_lr, cv=5, scoring='f1_weighted', n_jobs=-1)\n",
    "grid_search_lr.fit(X_train, y_train)\n",
    "\n",
    "# Get the best model\n",
    "best_lr = grid_search_lr.best_estimator_\n",
    "\n",
    "# Make predictions\n",
    "y_pred_lr = best_lr.predict(X_test)\n",
    "y_prob_lr = best_lr.predict_proba(X_test)\n",
    "\n",
    "# Metrics calculation\n",
    "print(f\"Best Parameters for Logistic Regression: {grid_search_lr.best_params_}\")"
   ]
  },
  {
   "cell_type": "code",
   "execution_count": 45,
   "metadata": {},
   "outputs": [
    {
     "name": "stdout",
     "output_type": "stream",
     "text": [
      "Accuracy: 0.2281\n",
      "Precision (weighted): 0.1097\n",
      "Recall (weighted): 0.2281\n",
      "F1 Score (weighted): 0.0898\n",
      "AUC: 0.5016200904136052\n"
     ]
    }
   ],
   "source": [
    "accuracy = accuracy_score(y_test, y_pred_lr)\n",
    "precision = precision_score(y_test, y_pred_lr, average='weighted')\n",
    "recall = recall_score(y_test, y_pred_lr, average='weighted')        \n",
    "f1 = f1_score(y_test, y_pred_lr, average='weighted')                \n",
    "\n",
    "# For AUC, you can compute it per class if y_test is multiclass\n",
    "try:\n",
    "    auc = roc_auc_score(y_test, y_prob_lr, multi_class='ovr')   \n",
    "except ValueError:\n",
    "    auc = \"AUC not computable for the current target type.\"\n",
    "\n",
    "# Print metrics\n",
    "print(f\"Accuracy: {accuracy:.4f}\")\n",
    "print(f\"Precision (weighted): {precision:.4f}\")\n",
    "print(f\"Recall (weighted): {recall:.4f}\")\n",
    "print(f\"F1 Score (weighted): {f1:.4f}\")\n",
    "print(f\"AUC: {auc}\")"
   ]
  },
  {
   "cell_type": "code",
   "execution_count": 46,
   "metadata": {},
   "outputs": [],
   "source": [
    "# Append Logistic Regression metrics to the results list\n",
    "results.append({\n",
    "    \"Model\": \"Logistic Regression\",\n",
    "    \"Accuracy\": accuracy,\n",
    "    \"Precision\": precision,\n",
    "    \"Recall\": recall,\n",
    "    \"F1-Score\": f1,\n",
    "    \"AUC\": auc if isinstance(auc, (float, int)) else \"Not Applicable\"\n",
    "})"
   ]
  },
  {
   "cell_type": "markdown",
   "metadata": {},
   "source": [
    "### *Decision Tree*"
   ]
  },
  {
   "cell_type": "code",
   "execution_count": 47,
   "metadata": {},
   "outputs": [
    {
     "name": "stdout",
     "output_type": "stream",
     "text": [
      "Best Parameters for Decision Tree: {'criterion': 'gini', 'max_depth': 5, 'min_samples_split': 2}\n"
     ]
    }
   ],
   "source": [
    "# Define the parameter grid for Decision Tree\n",
    "param_grid_dt = {\n",
    "    'max_depth': [5, 10, 15],\n",
    "    'min_samples_split': [2, 5, 10],\n",
    "    'criterion': ['gini', 'entropy']\n",
    "}\n",
    "\n",
    "# Initialize the Decision Tree model\n",
    "dt = DecisionTreeClassifier(random_state=42)\n",
    "\n",
    "# Perform Grid Search with 5-fold cross-validation\n",
    "grid_search_dt = GridSearchCV(estimator=dt, param_grid=param_grid_dt, cv=5, scoring='f1', n_jobs=-1)\n",
    "grid_search_dt.fit(X_train, y_train)\n",
    "\n",
    "# Retrieve the best model and parameters\n",
    "best_dt = grid_search_dt.best_estimator_\n",
    "print(f\"Best Parameters for Decision Tree: {grid_search_dt.best_params_}\")"
   ]
  },
  {
   "cell_type": "code",
   "execution_count": 48,
   "metadata": {},
   "outputs": [
    {
     "name": "stdout",
     "output_type": "stream",
     "text": [
      "Accuracy: 0.2249\n",
      "Precision (weighted): 0.4251\n",
      "Recall (weighted): 0.2249\n",
      "F1 Score (weighted): 0.1107\n",
      "AUC: 0.5025034739094446\n"
     ]
    }
   ],
   "source": [
    "# Make predictions\n",
    "y_pred_dt = best_dt.predict(X_test)\n",
    "\n",
    "# Ensure the model supports predict_proba before using it for AUC calculation\n",
    "y_prob_dt = best_dt.predict_proba(X_test) if hasattr(best_dt, \"predict_proba\") else None\n",
    "\n",
    "# Evaluate the model\n",
    "accuracy = accuracy_score(y_test, y_pred_dt)\n",
    "precision = precision_score(y_test, y_pred_dt, average='weighted', zero_division=1)\n",
    "recall = recall_score(y_test, y_pred_dt, average='weighted', zero_division=1)\n",
    "f1 = f1_score(y_test, y_pred_dt, average='weighted', zero_division=1)\n",
    "\n",
    "# Calculate AUC if `predict_proba` is available\n",
    "auc = roc_auc_score(y_test, y_prob_dt, multi_class='ovr') if y_prob_dt is not None else \"Not Applicable\"\n",
    "\n",
    "# Print metrics\n",
    "print(f\"Accuracy: {accuracy:.4f}\")\n",
    "print(f\"Precision (weighted): {precision:.4f}\")\n",
    "print(f\"Recall (weighted): {recall:.4f}\")\n",
    "print(f\"F1 Score (weighted): {f1:.4f}\")\n",
    "print(f\"AUC: {auc}\")"
   ]
  },
  {
   "cell_type": "code",
   "execution_count": 49,
   "metadata": {},
   "outputs": [],
   "source": [
    "# Append the results to the `results` list\n",
    "results.append({\n",
    "    \"Model\": \"Decision Tree\",\n",
    "    \"Accuracy\": accuracy,\n",
    "    \"Precision\": precision,\n",
    "    \"Recall\": recall,\n",
    "    \"F1-Score\": f1,\n",
    "    \"AUC\": auc\n",
    "})"
   ]
  },
  {
   "cell_type": "markdown",
   "metadata": {},
   "source": [
    "### *Support Vector Machine*"
   ]
  },
  {
   "cell_type": "code",
   "execution_count": 50,
   "metadata": {},
   "outputs": [
    {
     "name": "stdout",
     "output_type": "stream",
     "text": [
      "Best Parameters for SVM: {'C': 0.1, 'gamma': 'scale', 'kernel': 'linear'}\n"
     ]
    }
   ],
   "source": [
    "# Define the parameter grid for SVM\n",
    "param_grid_svc = {\n",
    "    'C': [0.1, 1, 10],\n",
    "    'kernel': ['linear', 'rbf'],\n",
    "    'gamma': ['scale', 'auto']\n",
    "}\n",
    "\n",
    "# Initialize the SVM model (with probability=True for AUC calculation)\n",
    "svc = SVC(random_state=42, probability=True)\n",
    "\n",
    "# Perform Grid Search with 5-fold cross-validation\n",
    "grid_search_svc = GridSearchCV(svc, param_grid_svc, cv=5, scoring='f1', n_jobs=-1)\n",
    "grid_search_svc.fit(X_train, y_train)\n",
    "\n",
    "# Retrieve the best model and parameters\n",
    "best_svc = grid_search_svc.best_estimator_\n",
    "print(f\"Best Parameters for SVM: {grid_search_svc.best_params_}\")"
   ]
  },
  {
   "cell_type": "code",
   "execution_count": 51,
   "metadata": {},
   "outputs": [
    {
     "name": "stdout",
     "output_type": "stream",
     "text": [
      "Accuracy: 0.2267\n",
      "Precision: 0.8247\n",
      "Recall: 0.2267\n",
      "F1 Score: 0.0838\n",
      "AUC: 0.5017813161279685\n"
     ]
    }
   ],
   "source": [
    "# Make predictions\n",
    "y_pred_svc = best_svc.predict(X_test)\n",
    "\n",
    "# Ensure `predict_proba` is available and get predicted probabilities\n",
    "y_prob_svc = best_svc.predict_proba(X_test) if hasattr(best_svc, \"predict_proba\") else None\n",
    "\n",
    "# Evaluate the model\n",
    "accuracy = accuracy_score(y_test, y_pred_svc)\n",
    "precision = precision_score(y_test, y_pred_svc, average='weighted', zero_division=1)\n",
    "recall = recall_score(y_test, y_pred_svc, average='weighted', zero_division=1)\n",
    "f1 = f1_score(y_test, y_pred_svc, average='weighted', zero_division=1)\n",
    "\n",
    "# Calculate AUC if `predict_proba` is available\n",
    "auc = roc_auc_score(y_test, y_prob_svc, multi_class='ovr') if y_prob_svc is not None else \"Not Applicable\"\n",
    "\n",
    "# Print metrics for SVM\n",
    "print(f\"Accuracy: {accuracy:.4f}\")\n",
    "print(f\"Precision: {precision:.4f}\")\n",
    "print(f\"Recall: {recall:.4f}\")\n",
    "print(f\"F1 Score: {f1:.4f}\")\n",
    "print(f\"AUC: {auc if isinstance(auc, (float, int)) else 'Not Applicable'}\")\n"
   ]
  },
  {
   "cell_type": "code",
   "execution_count": 52,
   "metadata": {},
   "outputs": [],
   "source": [
    "# Append the results to the `results` list\n",
    "results.append({\n",
    "    \"Model\": \"SVM\",\n",
    "    \"Accuracy\": accuracy,\n",
    "    \"Precision\": precision,\n",
    "    \"Recall\": recall,\n",
    "    \"F1-Score\": f1,\n",
    "    \"AUC\": auc\n",
    "})"
   ]
  },
  {
   "cell_type": "markdown",
   "metadata": {},
   "source": [
    "### *Random Forest*"
   ]
  },
  {
   "cell_type": "code",
   "execution_count": 53,
   "metadata": {},
   "outputs": [
    {
     "name": "stdout",
     "output_type": "stream",
     "text": [
      "Best Parameters for Random Forest: {'max_depth': 5, 'min_samples_split': 2, 'n_estimators': 50}\n"
     ]
    }
   ],
   "source": [
    "# Define the parameter grid for Random Forest\n",
    "param_grid_rf = {\n",
    "    'n_estimators': [50, 100, 200],\n",
    "    'max_depth': [5, 10, 20],\n",
    "    'min_samples_split': [2, 5, 10]\n",
    "}\n",
    "\n",
    "# Initialize the Random Forest model\n",
    "rf = RandomForestClassifier(random_state=42)\n",
    "\n",
    "# Perform Grid Search with 5-fold cross-validation\n",
    "grid_search_rf = GridSearchCV(rf, param_grid_rf, cv=5, scoring='f1', n_jobs=-1)\n",
    "grid_search_rf.fit(X_train, y_train)\n",
    "\n",
    "# Retrieve the best model and parameters\n",
    "best_rf = grid_search_rf.best_estimator_\n",
    "print(f\"Best Parameters for Random Forest: {grid_search_rf.best_params_}\")"
   ]
  },
  {
   "cell_type": "code",
   "execution_count": 54,
   "metadata": {},
   "outputs": [
    {
     "name": "stdout",
     "output_type": "stream",
     "text": [
      "Accuracy: 0.2232\n",
      "Precision: 0.3601\n",
      "Recall: 0.2232\n",
      "F1 Score: 0.0863\n",
      "AUC: 0.5039195323881535\n"
     ]
    }
   ],
   "source": [
    "# Make predictions\n",
    "y_pred_rf = best_rf.predict(X_test)\n",
    "\n",
    "# Ensure `predict_proba` is available and get predicted probabilities\n",
    "y_prob_rf = best_rf.predict_proba(X_test) if hasattr(best_rf, \"predict_proba\") else None\n",
    "\n",
    "# Evaluate the model\n",
    "accuracy = accuracy_score(y_test, y_pred_rf)\n",
    "precision = precision_score(y_test, y_pred_rf, average='weighted', zero_division=1)\n",
    "recall = recall_score(y_test, y_pred_rf, average='weighted', zero_division=1)\n",
    "f1 = f1_score(y_test, y_pred_rf, average='weighted', zero_division=1)\n",
    "\n",
    "# Calculate AUC if `predict_proba` is available\n",
    "auc = roc_auc_score(y_test, y_prob_rf, multi_class='ovr') if y_prob_rf is not None else \"Not Applicable\"\n",
    "\n",
    "# Print metrics for Random Forest\n",
    "print(f\"Accuracy: {accuracy:.4f}\")\n",
    "print(f\"Precision: {precision:.4f}\")\n",
    "print(f\"Recall: {recall:.4f}\")\n",
    "print(f\"F1 Score: {f1:.4f}\")\n",
    "print(f\"AUC: {auc if isinstance(auc, (float, int)) else 'Not Applicable'}\")\n"
   ]
  },
  {
   "cell_type": "code",
   "execution_count": 55,
   "metadata": {},
   "outputs": [],
   "source": [
    "# Append the results to the `results` list\n",
    "results.append({\n",
    "    \"Model\": \"Random Forest\",\n",
    "    \"Accuracy\": accuracy,\n",
    "    \"Precision\": precision,\n",
    "    \"Recall\": recall,\n",
    "    \"F1-Score\": f1,\n",
    "    \"AUC\": auc\n",
    "})"
   ]
  },
  {
   "cell_type": "markdown",
   "metadata": {},
   "source": [
    "### *XGBoost*"
   ]
  },
  {
   "cell_type": "code",
   "execution_count": 56,
   "metadata": {},
   "outputs": [
    {
     "name": "stdout",
     "output_type": "stream",
     "text": [
      "Best Parameters for XGBoost: {'learning_rate': 0.01, 'max_depth': 3, 'n_estimators': 50}\n"
     ]
    }
   ],
   "source": [
    "# Define the parameter grid for XGBoost\n",
    "param_grid_xgb = {\n",
    "    'n_estimators': [50, 100, 200],\n",
    "    'learning_rate': [0.01, 0.1, 0.2],\n",
    "    'max_depth': [3, 5, 10]\n",
    "}\n",
    "\n",
    "# Initialize the XGBoost model with a specific evaluation metric\n",
    "xgb = XGBClassifier(random_state=42, eval_metric=\"logloss\")\n",
    "\n",
    "# Perform Grid Search with 5-fold cross-validation\n",
    "grid_search_xgb = GridSearchCV(xgb, param_grid_xgb, cv=5, scoring='f1', n_jobs=-1)\n",
    "grid_search_xgb.fit(X_train, y_train)\n",
    "\n",
    "# Retrieve the best model and parameters\n",
    "best_xgb = grid_search_xgb.best_estimator_\n",
    "print(f\"Best Parameters for XGBoost: {grid_search_xgb.best_params_}\")"
   ]
  },
  {
   "cell_type": "code",
   "execution_count": 57,
   "metadata": {},
   "outputs": [
    {
     "name": "stdout",
     "output_type": "stream",
     "text": [
      "Accuracy: 0.2214\n",
      "Precision: 0.3053\n",
      "Recall: 0.2214\n",
      "F1 Score: 0.0950\n",
      "AUC: 0.5052100677988406\n"
     ]
    }
   ],
   "source": [
    "# Make predictions\n",
    "y_pred_xgb = best_xgb.predict(X_test)\n",
    "\n",
    "# Ensure `predict_proba` is available and get predicted probabilities\n",
    "y_prob_xgb = best_xgb.predict_proba(X_test) if hasattr(best_xgb, \"predict_proba\") else None\n",
    "\n",
    "# Evaluate the model\n",
    "accuracy = accuracy_score(y_test, y_pred_xgb)\n",
    "precision = precision_score(y_test, y_pred_xgb, average='weighted', zero_division=1)\n",
    "recall = recall_score(y_test, y_pred_xgb, average='weighted', zero_division=1)\n",
    "f1 = f1_score(y_test, y_pred_xgb, average='weighted', zero_division=1)\n",
    "auc = roc_auc_score(y_test, y_prob_xgb, multi_class='ovr') if y_prob_xgb is not None else \"Not Applicable\"\n",
    "\n",
    "# Print metrics for XGBoost\n",
    "print(f\"Accuracy: {accuracy:.4f}\")\n",
    "print(f\"Precision: {precision:.4f}\")\n",
    "print(f\"Recall: {recall:.4f}\")\n",
    "print(f\"F1 Score: {f1:.4f}\")\n",
    "print(f\"AUC: {auc if isinstance(auc, (float, int)) else 'Not Applicable'}\")"
   ]
  },
  {
   "cell_type": "code",
   "execution_count": 58,
   "metadata": {},
   "outputs": [],
   "source": [
    "# Append the results to the `results` list\n",
    "results.append({\n",
    "    \"Model\": \"XGBoost\",\n",
    "    \"Accuracy\": accuracy,\n",
    "    \"Precision\": precision,\n",
    "    \"Recall\": recall,\n",
    "    \"F1-Score\": f1,\n",
    "    \"AUC\": auc\n",
    "})"
   ]
  },
  {
   "cell_type": "markdown",
   "metadata": {},
   "source": [
    "#### *Since the metrics are in plain text or np arrays, let's convert them into a DataFrame and display it.*"
   ]
  },
  {
   "cell_type": "markdown",
   "metadata": {},
   "source": [
    "### *Combine All Results*"
   ]
  },
  {
   "cell_type": "code",
   "execution_count": 59,
   "metadata": {},
   "outputs": [
    {
     "data": {
      "text/html": [
       "<div>\n",
       "<style scoped>\n",
       "    .dataframe tbody tr th:only-of-type {\n",
       "        vertical-align: middle;\n",
       "    }\n",
       "\n",
       "    .dataframe tbody tr th {\n",
       "        vertical-align: top;\n",
       "    }\n",
       "\n",
       "    .dataframe thead th {\n",
       "        text-align: right;\n",
       "    }\n",
       "</style>\n",
       "<table border=\"1\" class=\"dataframe\">\n",
       "  <thead>\n",
       "    <tr style=\"text-align: right;\">\n",
       "      <th></th>\n",
       "      <th>Model</th>\n",
       "      <th>Accuracy</th>\n",
       "      <th>Precision</th>\n",
       "      <th>Recall</th>\n",
       "      <th>F1-Score</th>\n",
       "      <th>AUC</th>\n",
       "    </tr>\n",
       "  </thead>\n",
       "  <tbody>\n",
       "    <tr>\n",
       "      <th>0</th>\n",
       "      <td>Logistic Regression</td>\n",
       "      <td>0.228070</td>\n",
       "      <td>0.109733</td>\n",
       "      <td>0.228070</td>\n",
       "      <td>0.089830</td>\n",
       "      <td>0.501620</td>\n",
       "    </tr>\n",
       "    <tr>\n",
       "      <th>1</th>\n",
       "      <td>Decision Tree</td>\n",
       "      <td>0.224912</td>\n",
       "      <td>0.425108</td>\n",
       "      <td>0.224912</td>\n",
       "      <td>0.110675</td>\n",
       "      <td>0.502503</td>\n",
       "    </tr>\n",
       "    <tr>\n",
       "      <th>2</th>\n",
       "      <td>SVM</td>\n",
       "      <td>0.226667</td>\n",
       "      <td>0.824711</td>\n",
       "      <td>0.226667</td>\n",
       "      <td>0.083768</td>\n",
       "      <td>0.501781</td>\n",
       "    </tr>\n",
       "    <tr>\n",
       "      <th>3</th>\n",
       "      <td>Random Forest</td>\n",
       "      <td>0.223158</td>\n",
       "      <td>0.360086</td>\n",
       "      <td>0.223158</td>\n",
       "      <td>0.086263</td>\n",
       "      <td>0.503920</td>\n",
       "    </tr>\n",
       "    <tr>\n",
       "      <th>4</th>\n",
       "      <td>XGBoost</td>\n",
       "      <td>0.221404</td>\n",
       "      <td>0.305320</td>\n",
       "      <td>0.221404</td>\n",
       "      <td>0.094972</td>\n",
       "      <td>0.505210</td>\n",
       "    </tr>\n",
       "  </tbody>\n",
       "</table>\n",
       "</div>"
      ],
      "text/plain": [
       "                 Model  Accuracy  Precision    Recall  F1-Score       AUC\n",
       "0  Logistic Regression  0.228070   0.109733  0.228070  0.089830  0.501620\n",
       "1        Decision Tree  0.224912   0.425108  0.224912  0.110675  0.502503\n",
       "2                  SVM  0.226667   0.824711  0.226667  0.083768  0.501781\n",
       "3        Random Forest  0.223158   0.360086  0.223158  0.086263  0.503920\n",
       "4              XGBoost  0.221404   0.305320  0.221404  0.094972  0.505210"
      ]
     },
     "execution_count": 59,
     "metadata": {},
     "output_type": "execute_result"
    }
   ],
   "source": [
    "results=pd.DataFrame(results)\n",
    "results"
   ]
  },
  {
   "cell_type": "markdown",
   "metadata": {},
   "source": [
    "### Evaluation Metrics Explained\n",
    "- **Accuracy:** Measures how many predictions were correct out of all predictions.\n",
    "- **Precision:** Focuses on the correctness of positive predictions.\n",
    "- **Recall:** Emphasizes the completeness of positive predictions.\n",
    "- **F1-Score:** Balances precision and recall.\n",
    "- **AUC-ROC:** Indicates the model's discriminative ability."
   ]
  },
  {
   "cell_type": "code",
   "execution_count": 60,
   "metadata": {},
   "outputs": [
    {
     "data": {
      "image/png": "[encoded data removed]",
      "text/plain": [
       "<Figure size 1200x600 with 1 Axes>"
      ]
     },
     "metadata": {},
     "output_type": "display_data"
    }
   ],
   "source": [
    "# Define the metrics to analyze and reshape the data\n",
    "metrics = [\"Accuracy\", \"Precision\", \"Recall\", \"F1-Score\",\"AUC\"]\n",
    "results_subset = results.set_index(\"Model\")[metrics].reset_index()\n",
    "# Transform data into a long format for easier plotting\n",
    "results_melted = results_subset.melt(id_vars=\"Model\", var_name=\"Metric\", value_name=\"Score\")\n",
    "\n",
    "plt.figure(figsize=(12, 6))\n",
    "sns.barplot(data=results_melted, x=\"Metric\", y=\"Score\", hue=\"Model\", edgecolor=\"black\")\n",
    "\n",
    "plt.title(\"Comparison of Model Performance Across Metrics\", fontsize=16, weight='bold', color='darkblue')\n",
    "plt.xlabel(\"Metrics\", fontsize=12)\n",
    "plt.ylabel(\"Score\", fontsize=12)\n",
    "plt.legend(title=\"Models\", bbox_to_anchor=(1.05, 1), loc='upper left', fontsize=10)\n",
    "plt.tight_layout()\n",
    "plt.show()"
   ]
  }
 ],
 "metadata": {
  "colab": {
   "provenance": []
  },
  "kernelspec": {
   "display_name": "Python 3 (ipykernel)",
   "language": "python",
   "name": "python3"
  },
  "language_info": {
   "codemirror_mode": {
    "name": "ipython",
    "version": 3
   },
   "file_extension": ".py",
   "mimetype": "text/x-python",
   "name": "python",
   "nbconvert_exporter": "python",
   "pygments_lexer": "ipython3",
   "version": "3.12.7"
  }
 },
 "nbformat": 4,
 "nbformat_minor": 4
}
